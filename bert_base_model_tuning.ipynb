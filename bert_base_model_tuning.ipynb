{
  "nbformat": 4,
  "nbformat_minor": 0,
  "metadata": {
    "accelerator": "GPU",
    "colab": {
      "name": "bert-base-model-tuning.ipynb",
      "provenance": [],
      "collapsed_sections": [],
      "machine_shape": "hm"
    },
    "kernelspec": {
      "display_name": "Python 3",
      "language": "python",
      "name": "python3"
    },
    "language_info": {
      "codemirror_mode": {
        "name": "ipython",
        "version": 3
      },
      "file_extension": ".py",
      "mimetype": "text/x-python",
      "name": "python",
      "nbconvert_exporter": "python",
      "pygments_lexer": "ipython3",
      "version": "3.7.3"
    }
  },
  "cells": [
    {
      "cell_type": "markdown",
      "metadata": {
        "id": "wgLmZQxw7n9K"
      },
      "source": [
        "---\n",
        "\n",
        "<center>Liushiya Chen, November 2019</center>"
      ]
    },
    {
      "cell_type": "markdown",
      "metadata": {
        "id": "vh_5UxrU8hs-"
      },
      "source": [
        "**Summary of BERT algorithm:**\n",
        "\n",
        "The BERT algorithm is a neural network-based, often pre-trained, word embedding algorithm. The algorithms takes words as inputs and embed them into $\\mathbb{R}^d$ space. BERT distinguishes itself from other embedding algorithms by being bidirectionally contextual, i.e. when BERT embeds a word, BERT takes into account words that come before and after it. This method of embedding allows for better results in prediction tasks such as machine translation and automated question-answering."
      ]
    },
    {
      "cell_type": "markdown",
      "metadata": {
        "id": "xvkMR4yIC30z"
      },
      "source": [
        "## **Environment Setup**"
      ]
    },
    {
      "cell_type": "code",
      "metadata": {
        "id": "_eyrhq8mxNvq",
        "colab": {
          "base_uri": "https://localhost:8080/",
          "height": 34
        },
        "outputId": "29b32409-5969-42dd-ec81-68d03f30f5d6"
      },
      "source": [
        "#!git clone https://<Username>:<Password>@github.com/TheShiya/bert.git\n",
        "# Clone BERT repo\n",
        "!git clone https://github.com/google-research/bert.git"
      ],
      "execution_count": null,
      "outputs": [
        {
          "output_type": "stream",
          "text": [
            "fatal: destination path 'bert' already exists and is not an empty directory.\n"
          ],
          "name": "stdout"
        }
      ]
    },
    {
      "cell_type": "code",
      "metadata": {
        "id": "eekE3U2hDgHQ",
        "colab": {
          "base_uri": "https://localhost:8080/",
          "height": 34
        },
        "outputId": "09b9ad84-f7d8-4886-f1ec-80013dc2eb4a"
      },
      "source": [
        "cd bert"
      ],
      "execution_count": null,
      "outputs": [
        {
          "output_type": "stream",
          "text": [
            "/content/bert\n"
          ],
          "name": "stdout"
        }
      ]
    },
    {
      "cell_type": "code",
      "metadata": {
        "id": "XKSYKg_PDL8L"
      },
      "source": [
        "# Check GPU status\n",
        "!nvidia-smi"
      ],
      "execution_count": null,
      "outputs": []
    },
    {
      "cell_type": "markdown",
      "metadata": {
        "id": "2ARFQzxhdydH"
      },
      "source": [
        "### **Predicting SQuAD data set with untuned BERT base model**"
      ]
    },
    {
      "cell_type": "code",
      "metadata": {
        "id": "13aK3nbucD-_"
      },
      "source": [
        "mkdir /content/bert/squad"
      ],
      "execution_count": null,
      "outputs": []
    },
    {
      "cell_type": "code",
      "metadata": {
        "id": "Adkndc3rDlzX"
      },
      "source": [
        "cd /content/bert/squad"
      ],
      "execution_count": null,
      "outputs": []
    },
    {
      "cell_type": "code",
      "metadata": {
        "id": "YXvU9wX2xNjM"
      },
      "source": [
        "# Download SQUAD data and evaluation script\n",
        "!wget \"https://rajpurkar.github.io/SQuAD-explorer/dataset/train-v1.1.json\"\n",
        "!wget \"https://rajpurkar.github.io/SQuAD-explorer/dataset/dev-v1.1.json\"\n",
        "!wget \"https://raw.githubusercontent.com/allenai/bi-att-flow/master/squad/evaluate-v1.1.py\""
      ],
      "execution_count": null,
      "outputs": []
    },
    {
      "cell_type": "code",
      "metadata": {
        "id": "PyhN1oYEDo9g",
        "colab": {
          "base_uri": "https://localhost:8080/",
          "height": 34
        },
        "outputId": "1e624c0d-275a-46b6-feab-723bcfa8e28b"
      },
      "source": [
        "cd /content/bert"
      ],
      "execution_count": null,
      "outputs": [
        {
          "output_type": "stream",
          "text": [
            "/content/bert\n"
          ],
          "name": "stdout"
        }
      ]
    },
    {
      "cell_type": "code",
      "metadata": {
        "id": "dOqxoY7WV7_k"
      },
      "source": [
        "# Download and unzip BERT-Base Uncased\n",
        "!wget \"https://storage.googleapis.com/bert_models/2018_10_18/uncased_L-12_H-768_A-12.zip\"\n",
        "!unzip uncased_L-12_H-768_A-12.zip\n",
        "!mv uncased_L-12_H-768_A-12 model"
      ],
      "execution_count": null,
      "outputs": []
    },
    {
      "cell_type": "code",
      "metadata": {
        "id": "SErqFb7UIAQl"
      },
      "source": [
        "# Predict using untuned model\n",
        "!python run_squad.py \\\n",
        "  --vocab_file=model/vocab.txt \\\n",
        "  --bert_config_file=model/bert_config.json \\\n",
        "  --init_checkpoint=model/bert_model.ckpt \\\n",
        "  --do_train=False \\\n",
        "  --train_file=squad/train-v1.1.json \\\n",
        "  --do_predict=True \\\n",
        "  --predict_file=squad/dev-v1.1.json \\\n",
        "  --train_batch_size=12 \\\n",
        "  --learning_rate=3e-5 \\\n",
        "  --num_train_epochs=2.0 \\\n",
        "  --max_seq_length=384 \\\n",
        "  --doc_stride=128 \\\n",
        "  --output_dir=output"
      ],
      "execution_count": null,
      "outputs": []
    },
    {
      "cell_type": "code",
      "metadata": {
        "id": "AeLg-73zZTTH",
        "colab": {
          "base_uri": "https://localhost:8080/",
          "height": 199
        },
        "outputId": "a26588ca-dbeb-4167-fc5e-46d141d6824e"
      },
      "source": [
        "# Load predictions, create and download .csv file\n",
        "import json\n",
        "import pandas as pd\n",
        "from google.colab import files\n",
        "\n",
        "json = json.load(open('output/predictions.json', 'rb'))\n",
        "df = pd.Series(json).reset_index()\n",
        "df.columns = ['question_id', 'prediction_ans']\n",
        "df.to_csv('predicted_answers.csv', index=False)\n",
        "files.download('predicted_answers.csv')\n",
        "\n",
        "df.sample(n=5)"
      ],
      "execution_count": null,
      "outputs": [
        {
          "output_type": "execute_result",
          "data": {
            "text/html": [
              "<div>\n",
              "<style scoped>\n",
              "    .dataframe tbody tr th:only-of-type {\n",
              "        vertical-align: middle;\n",
              "    }\n",
              "\n",
              "    .dataframe tbody tr th {\n",
              "        vertical-align: top;\n",
              "    }\n",
              "\n",
              "    .dataframe thead th {\n",
              "        text-align: right;\n",
              "    }\n",
              "</style>\n",
              "<table border=\"1\" class=\"dataframe\">\n",
              "  <thead>\n",
              "    <tr style=\"text-align: right;\">\n",
              "      <th></th>\n",
              "      <th>question_id</th>\n",
              "      <th>prediction_ans</th>\n",
              "    </tr>\n",
              "  </thead>\n",
              "  <tbody>\n",
              "    <tr>\n",
              "      <th>982</th>\n",
              "      <td>573361404776f4190066093f</td>\n",
              "      <td>the Royal Castle Curia</td>\n",
              "    </tr>\n",
              "    <tr>\n",
              "      <th>338</th>\n",
              "      <td>56bf3a223aeaaa14008c9575</td>\n",
              "      <td>year veteran who had already overcome three AC...</td>\n",
              "    </tr>\n",
              "    <tr>\n",
              "      <th>8532</th>\n",
              "      <td>572925491d046914007790c6</td>\n",
              "      <td>like malaria, HIV/AIDS, pneumonia, diarr</td>\n",
              "    </tr>\n",
              "    <tr>\n",
              "      <th>4004</th>\n",
              "      <td>5725e28f38643c19005ace26</td>\n",
              "      <td>vitt, Scott and Schwei</td>\n",
              "    </tr>\n",
              "    <tr>\n",
              "      <th>9268</th>\n",
              "      <td>572ff293947a6a140053ce56</td>\n",
              "      <td>ports of Rotterdam, Antwerp and Amsterdam. The...</td>\n",
              "    </tr>\n",
              "  </tbody>\n",
              "</table>\n",
              "</div>"
            ],
            "text/plain": [
              "                   question_id                                     prediction_ans\n",
              "982   573361404776f4190066093f                             the Royal Castle Curia\n",
              "338   56bf3a223aeaaa14008c9575  year veteran who had already overcome three AC...\n",
              "8532  572925491d046914007790c6           like malaria, HIV/AIDS, pneumonia, diarr\n",
              "4004  5725e28f38643c19005ace26                             vitt, Scott and Schwei\n",
              "9268  572ff293947a6a140053ce56  ports of Rotterdam, Antwerp and Amsterdam. The..."
            ]
          },
          "metadata": {
            "tags": []
          },
          "execution_count": 20
        }
      ]
    },
    {
      "cell_type": "code",
      "metadata": {
        "id": "-ig5iQeLafya",
        "colab": {
          "base_uri": "https://localhost:8080/",
          "height": 34
        },
        "outputId": "6a1aa27e-081a-44f2-a970-762a2c128ebf"
      },
      "source": [
        "# Evaluate predictions\n",
        "!python squad/evaluate-v1.1.py squad/dev-v1.1.json output/predictions.json"
      ],
      "execution_count": null,
      "outputs": [
        {
          "output_type": "stream",
          "text": [
            "{\"exact_match\": 0.0946073793755913, \"f1\": 7.458751659520597}\n"
          ],
          "name": "stdout"
        }
      ]
    },
    {
      "cell_type": "markdown",
      "metadata": {
        "id": "othCOHNEd7Ps"
      },
      "source": [
        "### **Predicting MRPC Data with tuned BERT base model**"
      ]
    },
    {
      "cell_type": "code",
      "metadata": {
        "id": "5AQH4pEkd-GO"
      },
      "source": [
        "!wget \"https://gist.githubusercontent.com/W4ngatang/60c2bdb54d156a41194446737ce03e2e/raw/17b8dd0d724281ed7c3b2aeeda662b92809aadd5/download_glue_data.py\""
      ],
      "execution_count": null,
      "outputs": []
    },
    {
      "cell_type": "code",
      "metadata": {
        "id": "AlrCO3LYeJ1K"
      },
      "source": [
        "!python download_glue_data.py"
      ],
      "execution_count": null,
      "outputs": []
    },
    {
      "cell_type": "code",
      "metadata": {
        "id": "W74-uQD2nZVR"
      },
      "source": [
        "!wget \"https://storage.googleapis.com/bert_models/2018_10_18/uncased_L-12_H-768_A-12.zip\"\n",
        "!unzip uncased_L-12_H-768_A-12.zip\n",
        "!mv uncased_L-12_H-768_A-12 model_tuned"
      ],
      "execution_count": null,
      "outputs": []
    },
    {
      "cell_type": "code",
      "metadata": {
        "id": "LnDp_3uWeyY-"
      },
      "source": [
        "# Train model on MRPC data\n",
        "!python run_classifier.py \\\n",
        "  --task_name=MRPC \\\n",
        "  --do_train=true \\\n",
        "  --do_eval=true \\\n",
        "  --data_dir=glue_data/MRPC \\\n",
        "  --vocab_file=model_tuned/vocab.txt \\\n",
        "  --bert_config_file=model_tuned/bert_config.json \\\n",
        "  --init_checkpoint=model_tuned/bert_model.ckpt \\\n",
        "  --max_seq_length=128 \\\n",
        "  --train_batch_size=32 \\\n",
        "  --learning_rate=2e-5 \\\n",
        "  --num_train_epochs=3.0 \\\n",
        "  --output_dir=mrpc_output/"
      ],
      "execution_count": null,
      "outputs": []
    },
    {
      "cell_type": "code",
      "metadata": {
        "id": "djx89tu-lax9"
      },
      "source": [
        "# Predict msr_paraphrase_test.txt\n",
        "!python run_classifier.py \\\n",
        "  --task_name=MRPC \\\n",
        "  --do_predict=true \\\n",
        "  --data_dir=glue_data/MRPC \\\n",
        "  --vocab_file=model_tuned/vocab.txt \\\n",
        "  --bert_config_file=model_tuned/bert_config.json \\\n",
        "  --init_checkpoint=mrpc_output/model.ckpt-343 \\\n",
        "  --max_seq_length=128 \\\n",
        "  --output_dir=mrpc_output/predictions"
      ],
      "execution_count": null,
      "outputs": []
    },
    {
      "cell_type": "code",
      "metadata": {
        "id": "ddx63CooJj5U",
        "colab": {
          "base_uri": "https://localhost:8080/",
          "height": 199
        },
        "outputId": "f9626445-754a-4db4-f91c-bd7bd806f983"
      },
      "source": [
        "results = pd.read_table('mrpc_output/predictions/test_results.tsv',delim_whitespace=True,header=None)\n",
        "results.head()"
      ],
      "execution_count": null,
      "outputs": [
        {
          "output_type": "execute_result",
          "data": {
            "text/html": [
              "<div>\n",
              "<style scoped>\n",
              "    .dataframe tbody tr th:only-of-type {\n",
              "        vertical-align: middle;\n",
              "    }\n",
              "\n",
              "    .dataframe tbody tr th {\n",
              "        vertical-align: top;\n",
              "    }\n",
              "\n",
              "    .dataframe thead th {\n",
              "        text-align: right;\n",
              "    }\n",
              "</style>\n",
              "<table border=\"1\" class=\"dataframe\">\n",
              "  <thead>\n",
              "    <tr style=\"text-align: right;\">\n",
              "      <th></th>\n",
              "      <th>0</th>\n",
              "      <th>1</th>\n",
              "    </tr>\n",
              "  </thead>\n",
              "  <tbody>\n",
              "    <tr>\n",
              "      <th>0</th>\n",
              "      <td>0.003206</td>\n",
              "      <td>0.996794</td>\n",
              "    </tr>\n",
              "    <tr>\n",
              "      <th>1</th>\n",
              "      <td>0.012832</td>\n",
              "      <td>0.987168</td>\n",
              "    </tr>\n",
              "    <tr>\n",
              "      <th>2</th>\n",
              "      <td>0.002985</td>\n",
              "      <td>0.997015</td>\n",
              "    </tr>\n",
              "    <tr>\n",
              "      <th>3</th>\n",
              "      <td>0.021265</td>\n",
              "      <td>0.978735</td>\n",
              "    </tr>\n",
              "    <tr>\n",
              "      <th>4</th>\n",
              "      <td>0.974216</td>\n",
              "      <td>0.025784</td>\n",
              "    </tr>\n",
              "  </tbody>\n",
              "</table>\n",
              "</div>"
            ],
            "text/plain": [
              "          0         1\n",
              "0  0.003206  0.996794\n",
              "1  0.012832  0.987168\n",
              "2  0.002985  0.997015\n",
              "3  0.021265  0.978735\n",
              "4  0.974216  0.025784"
            ]
          },
          "metadata": {
            "tags": []
          },
          "execution_count": 44
        }
      ]
    },
    {
      "cell_type": "code",
      "metadata": {
        "id": "1BCT67sisEmD",
        "colab": {
          "base_uri": "https://localhost:8080/",
          "height": 199
        },
        "outputId": "43b9df35-4e26-4b75-813e-a93f6d6ca9e4"
      },
      "source": [
        "f = open('glue_data/MRPC/test.tsv', 'rb')\n",
        "lines = [str(l).split('\\\\t') for l in f.readlines()]\n",
        "test = pd.DataFrame(lines[1:], columns=lines[0]).iloc[:,1:3]\n",
        "test['Predicted_quality'] = results[1]\n",
        "test.to_csv('paraphrase_predictions.csv', index=False)\n",
        "files.download('paraphrase_predictions.csv')\n",
        "\n",
        "test.head()"
      ],
      "execution_count": null,
      "outputs": [
        {
          "output_type": "execute_result",
          "data": {
            "text/html": [
              "<div>\n",
              "<style scoped>\n",
              "    .dataframe tbody tr th:only-of-type {\n",
              "        vertical-align: middle;\n",
              "    }\n",
              "\n",
              "    .dataframe tbody tr th {\n",
              "        vertical-align: top;\n",
              "    }\n",
              "\n",
              "    .dataframe thead th {\n",
              "        text-align: right;\n",
              "    }\n",
              "</style>\n",
              "<table border=\"1\" class=\"dataframe\">\n",
              "  <thead>\n",
              "    <tr style=\"text-align: right;\">\n",
              "      <th></th>\n",
              "      <th>#1 ID</th>\n",
              "      <th>#2 ID</th>\n",
              "      <th>Predicted_quality</th>\n",
              "    </tr>\n",
              "  </thead>\n",
              "  <tbody>\n",
              "    <tr>\n",
              "      <th>0</th>\n",
              "      <td>1089874</td>\n",
              "      <td>1089925</td>\n",
              "      <td>0.996794</td>\n",
              "    </tr>\n",
              "    <tr>\n",
              "      <th>1</th>\n",
              "      <td>3019446</td>\n",
              "      <td>3019327</td>\n",
              "      <td>0.987168</td>\n",
              "    </tr>\n",
              "    <tr>\n",
              "      <th>2</th>\n",
              "      <td>1945605</td>\n",
              "      <td>1945824</td>\n",
              "      <td>0.997015</td>\n",
              "    </tr>\n",
              "    <tr>\n",
              "      <th>3</th>\n",
              "      <td>1430402</td>\n",
              "      <td>1430329</td>\n",
              "      <td>0.978735</td>\n",
              "    </tr>\n",
              "    <tr>\n",
              "      <th>4</th>\n",
              "      <td>3354381</td>\n",
              "      <td>3354396</td>\n",
              "      <td>0.025784</td>\n",
              "    </tr>\n",
              "  </tbody>\n",
              "</table>\n",
              "</div>"
            ],
            "text/plain": [
              "     #1 ID    #2 ID  Predicted_quality\n",
              "0  1089874  1089925           0.996794\n",
              "1  3019446  3019327           0.987168\n",
              "2  1945605  1945824           0.997015\n",
              "3  1430402  1430329           0.978735\n",
              "4  3354381  3354396           0.025784"
            ]
          },
          "metadata": {
            "tags": []
          },
          "execution_count": 57
        }
      ]
    },
    {
      "cell_type": "code",
      "metadata": {
        "id": "bvmoq8L_ntdM",
        "colab": {
          "base_uri": "https://localhost:8080/",
          "height": 52
        },
        "outputId": "11818893-8adb-46bf-f585-abd83356dbb5"
      },
      "source": [
        "ls glue_data/MRPC"
      ],
      "execution_count": null,
      "outputs": [
        {
          "output_type": "stream",
          "text": [
            "dev_ids.tsv  msr_paraphrase_test.txt   test.tsv\n",
            "dev.tsv      msr_paraphrase_train.txt  train.tsv\n"
          ],
          "name": "stdout"
        }
      ]
    },
    {
      "cell_type": "code",
      "metadata": {
        "id": "z0Bt_R0cL5pG",
        "colab": {
          "base_uri": "https://localhost:8080/",
          "height": 34
        },
        "outputId": "a9e012a1-d470-4d73-8a7f-373a0e4c3afe"
      },
      "source": [
        "***** Eval results *****\n",
        "eval_accuracy = 0.86764705\n",
        "eval_loss = 0.4515621\n",
        "global_step = 343\n",
        "loss = 0.4515621"
      ],
      "execution_count": null,
      "outputs": [
        {
          "output_type": "execute_result",
          "data": {
            "text/plain": [
              "'\\n***** Eval results *****\\neval_accuracy = 0.86764705\\neval_loss = 0.4515621\\nglobal_step = 343\\nloss = 0.4515621\\n'"
            ]
          },
          "metadata": {
            "tags": []
          },
          "execution_count": 75
        }
      ]
    }
  ]
}